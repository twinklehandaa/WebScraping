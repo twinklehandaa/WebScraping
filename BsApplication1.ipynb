{
 "cells": [
  {
   "cell_type": "code",
   "execution_count": 1,
   "id": "67f250a1-8815-4fda-87b7-b474b7df7862",
   "metadata": {},
   "outputs": [],
   "source": [
    "import requests\n",
    "from bs4 import BeautifulSoup"
   ]
  },
  {
   "cell_type": "code",
   "execution_count": 2,
   "id": "ef083840-bf49-4b5b-8743-1795e4c31867",
   "metadata": {},
   "outputs": [],
   "source": [
    "url = 'https://news.ycombinator.com'\n",
    "response = requests.get(url)"
   ]
  },
  {
   "cell_type": "code",
   "execution_count": 3,
   "id": "d6d84241-5b8f-4485-bd7e-8724abc68b0d",
   "metadata": {},
   "outputs": [],
   "source": [
    "soup = BeautifulSoup(response.text, 'html5lib')"
   ]
  },
  {
   "cell_type": "code",
   "execution_count": 4,
   "id": "c80c2ec4-16af-478b-a0cd-a477537756d6",
   "metadata": {},
   "outputs": [],
   "source": [
    "articles = []"
   ]
  },
  {
   "cell_type": "code",
   "execution_count": 5,
   "id": "4d32dffc-4f2a-4d54-b182-71930cf21f2e",
   "metadata": {},
   "outputs": [
    {
     "name": "stdout",
     "output_type": "stream",
     "text": [
      "Why young parents should focus on building trust with their kids\n",
      "Leaking the email of any YouTube user for $10k\n",
      "Why Does Integer Addition Approximate Float Multiplication?\n",
      "Thinkserver: My web-based coding environment\n",
      "Tiny JITs for a Faster FFI\n",
      "TaskExplorer\n",
      "The average CPU performance of PCs and notebooks fell for the first time\n",
      "Large magma bodies found beneath dormant volcanoes, surprising scientists\n",
      "Smuggling arbitrary data through an emoji\n",
      "Automating the Vim Workplace (2020)\n",
      "US and UK refuse to sign AI safety declaration at summit\n",
      "The Prophet of Parking: A eulogy for the great Donald Shoup\n",
      "Is NixOS truly reproducible?\n",
      "NESFab – A new programming language for creating NES games\n",
      "5G networks meet consumer needs as mobile data growth slows\n",
      "Federal data is disappearing. On Thursday, meet the teams working to rescue it\n",
      "Show HN: Game Bub – open-source FPGA retro emulation handheld\n",
      "Imapsync\n",
      "Record-breaking neutrino is most energetic ever detected\n",
      "Residential Networking over Telephone\n",
      "How Nissan and Honda's $60B merger talks collapsed\n",
      "PgAssistant: OSS tool to help devs understand and optimize PG performance\n",
      "Show HN: I made my own OS from scratch because I was bored\n",
      "What happens to your online accounts when you die?\n",
      "Vanishing Culture: Punch Card Knitting\n",
      "Ask HN: What's the best implementation of Conway's Game of Life?\n",
      "Why cryptography is not based on NP-complete problems\n",
      "Ask HN: Former employees' RSUs at risk after startup's IPO\n",
      "Visualizing data is an art\n",
      "A drill bit that can also drive screws\n"
     ]
    }
   ],
   "source": [
    "for item in soup.find_all('tr', class_='athing'):\n",
    "    titles = item.find('span', class_='titleline').find('a')\n",
    "    title = titles.text\n",
    "    link = titles.get('href', 'N/A')\n",
    "    print(titles.text)\n",
    "    new_article = {\n",
    "        'title' : title,\n",
    "        'link' : link,\n",
    "    }\n",
    "    articles.append(new_article)"
   ]
  },
  {
   "cell_type": "code",
   "execution_count": 6,
   "id": "a4a30f05-e09f-4a09-ac7a-f73c3cd80d92",
   "metadata": {},
   "outputs": [
    {
     "name": "stdout",
     "output_type": "stream",
     "text": [
      "[{'title': 'Why young parents should focus on building trust with their kids', 'link': 'https://desunit.com/blog/marshmallow-test-and-parenting/', 'upvotes': '178 points'}, {'title': 'Leaking the email of any YouTube user for $10k', 'link': 'https://brutecat.com/articles/leaking-youtube-emails', 'upvotes': '1445 points'}, {'title': 'Why Does Integer Addition Approximate Float Multiplication?', 'link': 'https://probablydance.com/2025/02/08/why-does-integer-addition-approximate-float-multiplication/', 'upvotes': '40 points'}, {'title': 'Thinkserver: My web-based coding environment', 'link': 'https://checkmyworking.com/posts/2025/02/thinkserver-my-web-based-coding-environment/', 'upvotes': '113 points'}, {'title': 'Tiny JITs for a Faster FFI', 'link': 'https://railsatscale.com/2025-02-12-tiny-jits-for-a-faster-ffi/', 'upvotes': '241 points'}, {'title': 'TaskExplorer', 'link': 'https://github.com/DavidXanatos/TaskExplorer', 'upvotes': '18 points'}, {'title': 'The average CPU performance of PCs and notebooks fell for the first time', 'link': 'https://www.cpubenchmark.net/year-on-year.html', 'upvotes': '217 points'}, {'title': 'Large magma bodies found beneath dormant volcanoes, surprising scientists', 'link': 'https://phys.org/news/2025-01-large-magma-bodies-beneath-dormant.html', 'upvotes': '32 points'}, {'title': 'Smuggling arbitrary data through an emoji', 'link': 'https://paulbutler.org/2025/smuggling-arbitrary-data-through-an-emoji/', 'upvotes': '544 points'}, {'title': 'Automating the Vim Workplace (2020)', 'link': 'https://sharats.me/posts/automating-the-vim-workplace/', 'upvotes': '24 points'}, {'title': 'US and UK refuse to sign AI safety declaration at summit', 'link': 'https://arstechnica.com/ai/2025/02/us-and-uk-refuse-to-sign-ai-safety-declaration-at-summit/', 'upvotes': '360 points'}, {'title': 'The Prophet of Parking: A eulogy for the great Donald Shoup', 'link': 'https://www.worksinprogress.news/p/the-prophet-of-parking', 'upvotes': '244 points'}, {'title': 'Is NixOS truly reproducible?', 'link': 'https://luj.fr/blog/is-nixos-truly-reproducible.html', 'upvotes': '193 points'}, {'title': 'NESFab – A new programming language for creating NES games', 'link': 'https://pubby.games/nesfab.html', 'upvotes': '101 points'}, {'title': '5G networks meet consumer needs as mobile data growth slows', 'link': 'https://spectrum.ieee.org/5g-bandwidth', 'upvotes': '198 points'}, {'title': 'Federal data is disappearing. On Thursday, meet the teams working to rescue it', 'link': 'https://www.muckrock.com/news/archives/2025/feb/10/federal-data-is-disappearing-on-thursday-meet-the-teams-working-to-rescue-it-and-learn-how-you-can-help/', 'upvotes': '73 points'}, {'title': 'Show HN: Game Bub – open-source FPGA retro emulation handheld', 'link': 'https://eli.lipsitz.net/posts/introducing-gamebub/', 'upvotes': '222 points'}, {'title': 'Imapsync', 'link': 'https://imapsync.lamiral.info/', 'upvotes': '142 points'}, {'title': 'Record-breaking neutrino is most energetic ever detected', 'link': 'https://www.nature.com/articles/d41586-025-00444-1', 'upvotes': '195 points'}, {'title': 'Residential Networking over Telephone', 'link': 'https://computer.rip/2025-02-02-residential-networking-over-telephone.html', 'upvotes': '3 points'}, {'title': \"How Nissan and Honda's $60B merger talks collapsed\", 'link': 'https://www.reuters.com/markets/deals/inside-collapse-nissan-hondas-60-billion-mega-deal-2025-02-12/', 'upvotes': '147 points'}, {'title': 'PgAssistant: OSS tool to help devs understand and optimize PG performance', 'link': 'https://github.com/nexsol-technologies/pgassistant', 'upvotes': '213 points'}, {'title': 'Show HN: I made my own OS from scratch because I was bored', 'link': 'https://jotalea.com.ar/misc/jotaleaos/', 'upvotes': '144 points'}, {'title': 'What happens to your online accounts when you die?', 'link': 'https://digitalseams.com/blog/what-happens-to-your-online-accounts-when-you-die', 'upvotes': '100 points'}, {'title': 'Vanishing Culture: Punch Card Knitting', 'link': 'https://blog.archive.org/2025/02/12/vanishing-culture-punch-card-knitting/', 'upvotes': '107 points'}, {'title': \"Ask HN: What's the best implementation of Conway's Game of Life?\", 'link': 'item?id=43023875', 'upvotes': '81 points'}, {'title': 'Why cryptography is not based on NP-complete problems', 'link': 'https://blintzbase.com/posts/cryptography-is-not-based-on-np-hard-problems/', 'upvotes': '86 points'}, {'title': \"Ask HN: Former employees' RSUs at risk after startup's IPO\", 'link': 'item?id=43026774', 'upvotes': '111 points'}, {'title': 'Visualizing data is an art', 'link': 'https://perthirtysix.com/visualizing-data-is-an-art', 'upvotes': '148 points'}, {'title': 'A drill bit that can also drive screws', 'link': 'https://www.core77.com/posts/135333/Industrial-Designer-Invents-Drill-Bit-that-Can-Also-Drive-Screws', 'upvotes': '76 points'}]\n"
     ]
    }
   ],
   "source": [
    "for index,item in enumerate(soup.find_all('span', class_='score')):\n",
    "    articles[index]['upvotes'] = item.text\n",
    "\n",
    "print(articles)                                "
   ]
  }
 ],
 "metadata": {
  "kernelspec": {
   "display_name": "Python 3 (ipykernel)",
   "language": "python",
   "name": "python3"
  },
  "language_info": {
   "codemirror_mode": {
    "name": "ipython",
    "version": 3
   },
   "file_extension": ".py",
   "mimetype": "text/x-python",
   "name": "python",
   "nbconvert_exporter": "python",
   "pygments_lexer": "ipython3",
   "version": "3.11.5"
  }
 },
 "nbformat": 4,
 "nbformat_minor": 5
}
