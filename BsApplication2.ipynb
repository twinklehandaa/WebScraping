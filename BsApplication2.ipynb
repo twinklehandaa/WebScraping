{
 "cells": [
  {
   "cell_type": "code",
   "execution_count": 1,
   "id": "b3d54b26-d348-4ae7-a21f-c42d334f7107",
   "metadata": {},
   "outputs": [],
   "source": [
    "import requests\n",
    "from bs4 import BeautifulSoup"
   ]
  },
  {
   "cell_type": "code",
   "execution_count": 2,
   "id": "e35f23a2-15e9-4a9f-9f6b-82fe6fe9aba2",
   "metadata": {},
   "outputs": [],
   "source": [
    "url = \"https://books.toscrape.com/catalogue/category/books/travel_2/index.html\"\n",
    "response = requests.get(url)"
   ]
  },
  {
   "cell_type": "code",
   "execution_count": 3,
   "id": "2d40a17d-439b-4c41-9241-d6538d0d9591",
   "metadata": {},
   "outputs": [],
   "source": [
    "soup = BeautifulSoup(response.text, 'html5lib')"
   ]
  },
  {
   "cell_type": "code",
   "execution_count": 4,
   "id": "f2d49db1-d1d5-4f49-99ef-669893c3eba5",
   "metadata": {},
   "outputs": [],
   "source": [
    "books = []\n",
    "\n",
    "for item in soup.find_all('article', class_='product_pod'):\n",
    "    title = item.find('h3').find('a').text\n",
    "    price = item.find('p', class_='price_color').text\n",
    "    star_rating = item.find('p', class_='star-rating')\n",
    "    rating = star_rating.get('class')[1]\n",
    "    books.append({\n",
    "        'title' : title,\n",
    "        'price' : price,\n",
    "        'rating' : rating,\n",
    "    })"
   ]
  },
  {
   "cell_type": "code",
   "execution_count": 5,
   "id": "ba05dfa8-024c-4170-a423-3691073a0d8e",
   "metadata": {},
   "outputs": [
    {
     "data": {
      "text/plain": [
       "[{'title': \"It's Only the Himalayas\", 'price': 'Â£45.17', 'rating': 'Two'},\n",
       " {'title': 'Full Moon over Noahâ\\x80\\x99s ...',\n",
       "  'price': 'Â£49.43',\n",
       "  'rating': 'Four'},\n",
       " {'title': 'See America: A Celebration ...',\n",
       "  'price': 'Â£48.87',\n",
       "  'rating': 'Three'},\n",
       " {'title': 'Vagabonding: An Uncommon Guide ...',\n",
       "  'price': 'Â£36.94',\n",
       "  'rating': 'Two'},\n",
       " {'title': 'Under the Tuscan Sun', 'price': 'Â£37.33', 'rating': 'Three'},\n",
       " {'title': 'A Summer In Europe', 'price': 'Â£44.34', 'rating': 'Two'},\n",
       " {'title': 'The Great Railway Bazaar', 'price': 'Â£30.54', 'rating': 'One'},\n",
       " {'title': 'A Year in Provence ...', 'price': 'Â£56.88', 'rating': 'Four'},\n",
       " {'title': 'The Road to Little ...', 'price': 'Â£23.21', 'rating': 'One'},\n",
       " {'title': 'Neither Here nor There: ...',\n",
       "  'price': 'Â£38.95',\n",
       "  'rating': 'Three'},\n",
       " {'title': '1,000 Places to See ...', 'price': 'Â£26.08', 'rating': 'Five'}]"
      ]
     },
     "execution_count": 5,
     "metadata": {},
     "output_type": "execute_result"
    }
   ],
   "source": [
    "books"
   ]
  }
 ],
 "metadata": {
  "kernelspec": {
   "display_name": "Python 3 (ipykernel)",
   "language": "python",
   "name": "python3"
  },
  "language_info": {
   "codemirror_mode": {
    "name": "ipython",
    "version": 3
   },
   "file_extension": ".py",
   "mimetype": "text/x-python",
   "name": "python",
   "nbconvert_exporter": "python",
   "pygments_lexer": "ipython3",
   "version": "3.11.5"
  }
 },
 "nbformat": 4,
 "nbformat_minor": 5
}
